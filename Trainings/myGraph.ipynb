{
 "cells": [
  {
   "cell_type": "code",
   "execution_count": 1,
   "metadata": {},
   "outputs": [],
   "source": [
    "class Graph:\n",
    "    def __init__(self, numV):\n",
    "        self.numV = numV\n",
    "        self.allAdjes = []\n",
    "        for i in range(numV):\n",
    "            self.allAdjes.append([])\n",
    "    \n",
    "    def addEdge(self, v1, v2):\n",
    "        self.allAdjes[v1].append(v2)\n",
    "        self.allAdjes[v2].append(v1)\n",
    "\n",
    "    def getVerticiesNum(self):\n",
    "        return self.numV\n",
    "\n",
    "    def getNeigh(self, v):\n",
    "        return iter(self.allAdjes[v])"
   ]
  },
  {
   "cell_type": "code",
   "execution_count": 2,
   "metadata": {},
   "outputs": [],
   "source": [
    "import unittest\n",
    "class testGraph(unittest.TestCase):\n",
    "    def test1(self):\n",
    "        temp = Graph(0)\n",
    "        self.assertEqual(temp.getVerticiesNum(), 0)\n",
    "    def test2(self):\n",
    "        temp = Graph(10)\n",
    "        temp.addEdge(1,2)\n",
    "        neigh = temp.getNeigh(1)\n",
    "        self.assertEqual(next(neigh), 2)\n",
    "    def test3(self):\n",
    "        temp = Graph(10)\n",
    "        temp.addEdge(1,2)\n",
    "        temp.addEdge(1,3)\n",
    "        temp.addEdge(1,4)\n",
    "        temp.addEdge(1,5)\n",
    "        neigh = temp.getNeigh(1)\n",
    "        tempEdges = [2,3,4,5]\n",
    "        for i in tempEdges:\n",
    "            self.assertEqual(next(neigh), i)\n",
    "    def test4(self):\n",
    "        temp = Graph(10)\n",
    "        temp.addEdge(1,2)\n",
    "        temp.addEdge(1,3)\n",
    "        temp.addEdge(1,4)\n",
    "        temp.addEdge(1,5)\n",
    "        neigh = temp.getNeigh(1)\n",
    "        self.assertEqual(next(neigh), 2)\n",
    "    def test5(self):\n",
    "        temp = Graph(10)\n",
    "        temp.addEdge(1,2)\n",
    "        temp.addEdge(1,3)\n",
    "        temp.addEdge(1,4)\n",
    "        temp.addEdge(1,5)\n",
    "        neigh = temp.getNeigh(2)\n",
    "        self.assertEqual(neig.size(), 1)\n",
    "        \n",
    "        "
   ]
  },
  {
   "cell_type": "code",
   "execution_count": 3,
   "metadata": {},
   "outputs": [],
   "source": [
    "def test_all():\n",
    "        test = testGraph()\n",
    "        test.test1()\n",
    "        test.test2()\n",
    "        test.test3()\n",
    "        test.test4()"
   ]
  },
  {
   "cell_type": "code",
   "execution_count": 4,
   "metadata": {},
   "outputs": [],
   "source": [
    "test_all()"
   ]
  },
  {
   "cell_type": "code",
   "execution_count": null,
   "metadata": {},
   "outputs": [],
   "source": []
  }
 ],
 "metadata": {
  "kernelspec": {
   "display_name": "Python 3",
   "language": "python",
   "name": "python3"
  },
  "language_info": {
   "codemirror_mode": {
    "name": "ipython",
    "version": 3
   },
   "file_extension": ".py",
   "mimetype": "text/x-python",
   "name": "python",
   "nbconvert_exporter": "python",
   "pygments_lexer": "ipython3",
   "version": "3.7.4"
  }
 },
 "nbformat": 4,
 "nbformat_minor": 2
}
